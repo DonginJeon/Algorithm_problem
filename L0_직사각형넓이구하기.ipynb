{
 "cells": [
  {
   "cell_type": "markdown",
   "metadata": {},
   "source": [
    "2차원 좌표 평면에 변이 축과 평행한 직사각형이 있습니다. 직사각형 네 꼭짓점의 좌표 [[x1, y1], [x2, y2], [x3, y3], [x4, y4]]가 담겨있는 배열 dots가 매개변수로 주어질 때, 직사각형의 넓이를 return 하도록 solution 함수를 완성해보세요."
   ]
  },
  {
   "cell_type": "code",
   "execution_count": null,
   "metadata": {
    "vscode": {
     "languageId": "plaintext"
    }
   },
   "outputs": [],
   "source": [
    "def solution(dots):\n",
    "    # x좌표와 y좌표를 각각 구해서 가장 큰 값과 작은 값을 구함\n",
    "    x_values = [dot[0] for dot in dots]\n",
    "    y_values = [dot[1] for dot in dots]\n",
    "    \n",
    "    # 가로 길이: x값의 최대값 - 최소값\n",
    "    width = max(x_values) - min(x_values)\n",
    "    # 세로 길이: y값의 최대값 - 최소값\n",
    "    height = max(y_values) - min(y_values)\n",
    "    \n",
    "    # 넓이 계산\n",
    "    return width * height"
   ]
  }
 ],
 "metadata": {
  "language_info": {
   "name": "python"
  }
 },
 "nbformat": 4,
 "nbformat_minor": 2
}
