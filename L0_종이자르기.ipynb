{
 "cells": [
  {
   "cell_type": "markdown",
   "metadata": {},
   "source": [
    "머쓱이는 큰 종이를 1 x 1 크기\b로 자르려고 합니다. 예를 들어 2 x 2 크기의 종이를 1 x 1 크기로 자르려면 최소 가위질 세 번이 필요합니다.\n",
    "\n",
    "스크린샷 2022-07-25 오후 4.49.44.png\n",
    "\n",
    "정수 M, N이 매개변수로 주어질 때, M x N 크기의 종이를 최소로 가위질 해야하는 횟수를 return 하도록 solution 함수를 완성해보세요."
   ]
  },
  {
   "cell_type": "code",
   "execution_count": null,
   "metadata": {
    "vscode": {
     "languageId": "plaintext"
    }
   },
   "outputs": [],
   "source": [
    "def solution(M, N):\n",
    "    answer = 0\n",
    "    if M>1 and N>1:\n",
    "        answer += (M-1)+((N-1)*M)\n",
    "    elif M== 1 and N ==1:\n",
    "        answer = 0\n",
    "    elif M==1 and N != 1:\n",
    "        answer = N-1\n",
    "    elif M!=1 and N == 1:\n",
    "        answer = M-1\n",
    "        \n",
    "    return answer"
   ]
  }
 ],
 "metadata": {
  "language_info": {
   "name": "python"
  }
 },
 "nbformat": 4,
 "nbformat_minor": 2
}
