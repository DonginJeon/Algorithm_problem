{
 "cells": [
  {
   "cell_type": "markdown",
   "metadata": {},
   "source": [
    "최빈값은 주어진 값 중에서 가장 자주 나오는 값을 의미합니다. 정수 배열 array가 매개변수로 주어질 때, 최빈값을 return 하도록 solution 함수를 완성해보세요. 최빈값이 여러 개면 -1을 return 합니다.\n",
    "\n"
   ]
  },
  {
   "cell_type": "code",
   "execution_count": null,
   "metadata": {},
   "outputs": [],
   "source": [
    "def solution(array):\n",
    "    count = [0] * (max(array) + 1)  # 숫자 출연 횟수를 셀 리스트\n",
    "\n",
    "    for i in array:\n",
    "        count[i] += 1\n",
    "\n",
    "    m = 0  # 최빈값의 개수\n",
    "    for c in count:\n",
    "        if c == max(count):\n",
    "            m += 1\n",
    "\n",
    "    if m > 1:  # 최빈값이 2개 이상이면 -1을 리턴\n",
    "        return -1\n",
    "    else:  # 최빈값이 1개이면 해당 숫자를 리턴\n",
    "        return count.index(max(count))"
   ]
  },
  {
   "cell_type": "code",
   "execution_count": 2,
   "metadata": {},
   "outputs": [
    {
     "data": {
      "text/plain": [
       "[0, 0, 0, 0, 0]"
      ]
     },
     "execution_count": 2,
     "metadata": {},
     "output_type": "execute_result"
    }
   ],
   "source": [
    "array = [1, 2, 3, 3, 3, 4]\n",
    "count = [0] * (max(array) + 1)\n",
    "count"
   ]
  },
  {
   "cell_type": "code",
   "execution_count": 1,
   "metadata": {},
   "outputs": [
    {
     "name": "stdout",
     "output_type": "stream",
     "text": [
      "[0, 1, 1, 3, 1]\n"
     ]
    }
   ],
   "source": [
    "array = [1, 2, 3, 3, 3, 4]\n",
    "count = [0] * (max(array) + 1)\n",
    "for i in array:\n",
    "    count[i] += 1\n",
    "m = 0\n",
    "for c in count:\n",
    "    if c == max(count):\n",
    "        m += 1"
   ]
  }
 ],
 "metadata": {
  "kernelspec": {
   "display_name": "base",
   "language": "python",
   "name": "python3"
  },
  "language_info": {
   "codemirror_mode": {
    "name": "ipython",
    "version": 3
   },
   "file_extension": ".py",
   "mimetype": "text/x-python",
   "name": "python",
   "nbconvert_exporter": "python",
   "pygments_lexer": "ipython3",
   "version": "3.12.4"
  }
 },
 "nbformat": 4,
 "nbformat_minor": 2
}
