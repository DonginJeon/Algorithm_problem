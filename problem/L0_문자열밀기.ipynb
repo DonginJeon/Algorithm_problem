{
 "cells": [
  {
   "cell_type": "markdown",
   "metadata": {},
   "source": [
    "문자열 \"hello\"에서 각 문자를 오른쪽으로 한 칸씩 밀고 마지막 문자는 맨 앞으로 이동시키면 \"ohell\"이 됩니다. 이것을 문자열을 민다고 정의한다면 문자열 A와 B가 매개변수로 주어질 때, A를 밀어서 B가 될 수 있다면 밀어야 하는 최소 횟수를 return하고 밀어서 B가 될 수 없으면 -1을 return 하도록 solution 함수를 완성해보세요.\n",
    "\n"
   ]
  },
  {
   "cell_type": "code",
   "execution_count": null,
   "metadata": {
    "vscode": {
     "languageId": "plaintext"
    }
   },
   "outputs": [],
   "source": [
    "def solution(A, B):\n",
    "    if A == B:\n",
    "        return 0\n",
    "\n",
    "    for i in range(1, len(A) + 1):\n",
    "        A = A[-1] + A[:-1]\n",
    "        if A == B:\n",
    "            return i\n",
    "    \n",
    "    # 문자열을 회전해도 B와 같지 않으면 -1 반환\n",
    "    return -1"
   ]
  }
 ],
 "metadata": {
  "language_info": {
   "name": "python"
  }
 },
 "nbformat": 4,
 "nbformat_minor": 2
}
