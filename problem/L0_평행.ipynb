{
 "cells": [
  {
   "cell_type": "markdown",
   "metadata": {},
   "source": [
    "점 네 개의 좌표를 담은 이차원 배열  dots가 다음과 같이 매개변수로 주어집니다.\n",
    "\n",
    "[[x1, y1], [x2, y2], [x3, y3], [x4, y4]]\n",
    "주어진 네 개의 점을 두 개씩 이었을 때, 두 직선이 평행이 되는 경우가 있으면 1을 없으면 0을 return 하도록 solution 함수를 완성해보세요."
   ]
  },
  {
   "cell_type": "code",
   "execution_count": null,
   "metadata": {
    "vscode": {
     "languageId": "plaintext"
    }
   },
   "outputs": [],
   "source": [
    "def solution(dots):\n",
    "    # Sort dots to form lines and calculate slopes\n",
    "    # Calculate slope between two points (y2 - y1) / (x2 - x1)\n",
    "    \n",
    "    # Extract points for easier readability\n",
    "    (x1, y1), (x2, y2), (x3, y3), (x4, y4) = dots\n",
    "    \n",
    "    # Calculate the slopes of the lines formed by the points\n",
    "    def slope(p1, p2):\n",
    "        return (p2[1] - p1[1]) / (p2[0] - p1[0]) if p2[0] - p1[0] != 0 else float('inf')\n",
    "\n",
    "    # Calculate slopes between different pairs\n",
    "    slope1 = slope((x1, y1), (x2, y2))\n",
    "    slope2 = slope((x3, y3), (x4, y4))\n",
    "    slope3 = slope((x1, y1), (x3, y3))\n",
    "    slope4 = slope((x2, y2), (x4, y4))\n",
    "    slope5 = slope((x1, y1), (x4, y4))\n",
    "    slope6 = slope((x2, y2), (x3, y3))\n",
    "\n",
    "    # Check for parallelism: slopes should be equal if two lines are parallel\n",
    "    if slope1 == slope2 or slope3 == slope4 or slope5 == slope6:\n",
    "        return 1\n",
    "    else:\n",
    "        return 0"
   ]
  }
 ],
 "metadata": {
  "language_info": {
   "name": "python"
  }
 },
 "nbformat": 4,
 "nbformat_minor": 2
}
