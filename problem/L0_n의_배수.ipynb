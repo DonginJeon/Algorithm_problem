{
 "cells": [
  {
   "cell_type": "code",
   "execution_count": null,
   "metadata": {},
   "outputs": [],
   "source": [
    "# 정수 n과 정수 배열 numlist가 매개변수로 주어질 때, numlist에서 n의 배수가 아닌 수들을 제거한 배열을 return하도록 solution 함수를 완성해주세요.\n",
    "\n",
    "\n",
    "def solution(n, numlist):\n",
    "    answer = []\n",
    "    for i in numlist:\n",
    "        if i % n == 0:\n",
    "            answer.append(i)\n",
    "    return answer\n",
    "\n",
    "\n",
    "# 다른 함수를 사용해서도 풀어보자"
   ]
  }
 ],
 "metadata": {
  "language_info": {
   "name": "python"
  }
 },
 "nbformat": 4,
 "nbformat_minor": 2
}
