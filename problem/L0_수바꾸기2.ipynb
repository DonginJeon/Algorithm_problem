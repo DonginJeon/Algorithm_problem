{
 "cells": [
  {
   "cell_type": "markdown",
   "metadata": {},
   "source": [
    "정수 배열 numLog가 주어집니다. 처음에 numLog[0]에서 부터 시작해 \"w\", \"a\", \"s\", \"d\"로 이루어진 문자열을 입력으로 받아 순서대로 다음과 같은 조작을 했다고 합시다.\n",
    "\n",
    "\"w\" : 수에 1을 더한다.\n",
    "\"s\" : 수에 1을 뺀다.\n",
    "\"d\" : 수에 10을 더한다.\n",
    "\"a\" : 수에 10을 뺀다.\n",
    "그리고 매번 조작을 할 때마다 결괏값을 기록한 정수 배열이 numLog입니다. 즉, numLog[i]는 numLog[0]로부터 총 i번의 조작을 가한 결과가 저장되어 있습니다.\n",
    "\n",
    "주어진 정수 배열 numLog에 대해 조작을 위해 입력받은 문자열을 return 하는 solution 함수를 완성해 주세요."
   ]
  },
  {
   "cell_type": "code",
   "execution_count": 11,
   "metadata": {},
   "outputs": [
    {
     "name": "stdout",
     "output_type": "stream",
     "text": [
      "wsdawsdassw\n"
     ]
    }
   ],
   "source": [
    "numLog = [0, 1, 0, 10, 0, 1, 0, 10, 0, -1, -2, -1]\n",
    "result = \"\"\n",
    "for i in range(0,len(numLog)-1):\n",
    "    a = numLog[i+1]-numLog[i]\n",
    "    if a == 1:\n",
    "        result+=\"w\"\n",
    "    elif a == -1:ㅌ\n",
    "        result+=\"s\"\n",
    "    if a == 10:\n",
    "        result+=\"d\"\n",
    "    if a == -10:\n",
    "        result+=\"a\"\n",
    "print(result)"
   ]
  }
 ],
 "metadata": {
  "kernelspec": {
   "display_name": "base",
   "language": "python",
   "name": "python3"
  },
  "language_info": {
   "codemirror_mode": {
    "name": "ipython",
    "version": 3
   },
   "file_extension": ".py",
   "mimetype": "text/x-python",
   "name": "python",
   "nbconvert_exporter": "python",
   "pygments_lexer": "ipython3",
   "version": "3.11.7"
  }
 },
 "nbformat": 4,
 "nbformat_minor": 2
}
