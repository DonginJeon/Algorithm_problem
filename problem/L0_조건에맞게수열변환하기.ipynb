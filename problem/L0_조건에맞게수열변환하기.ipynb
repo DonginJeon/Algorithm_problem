{
 "cells": [
  {
   "cell_type": "markdown",
   "metadata": {},
   "source": []
  },
  {
   "cell_type": "code",
   "execution_count": 4,
   "metadata": {},
   "outputs": [
    {
     "name": "stdout",
     "output_type": "stream",
     "text": [
      "[3, 6, 9, 300, 297, 294]\n"
     ]
    }
   ],
   "source": [
    "arr = [1, 2, 3, 100, 99, 98]\n",
    "k = 3\n",
    "\n",
    "answer = []\n",
    "if k%2==0:\n",
    "    for i in arr:\n",
    "        i += k\n",
    "        answer.append(i)\n",
    "else:\n",
    "    for i in arr:\n",
    "        i *= k\n",
    "        answer.append(i)\n",
    "\n",
    "print(answer)"
   ]
  }
 ],
 "metadata": {
  "kernelspec": {
   "display_name": "base",
   "language": "python",
   "name": "python3"
  },
  "language_info": {
   "codemirror_mode": {
    "name": "ipython",
    "version": 3
   },
   "file_extension": ".py",
   "mimetype": "text/x-python",
   "name": "python",
   "nbconvert_exporter": "python",
   "pygments_lexer": "ipython3",
   "version": "3.11.7"
  }
 },
 "nbformat": 4,
 "nbformat_minor": 2
}
