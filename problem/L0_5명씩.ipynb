{
 "cells": [
  {
   "cell_type": "markdown",
   "metadata": {},
   "source": [
    "최대 5명씩 탑승가능한 놀이기구를 타기 위해 줄을 서있는 사람들의 이름이 담긴 문자열 리스트 names가 주어질 때, 앞에서 부터 5명씩 묶은 그룹의 가장 앞에 서있는 사람들의 이름을 담은 리스트를 return하도록 solution 함수를 완성해주세요. 마지막 그룹이 5명이 되지 않더라도 가장 앞에 있는 사람의 이름을 포함합니다."
   ]
  },
  {
   "cell_type": "code",
   "execution_count": 24,
   "metadata": {},
   "outputs": [
    {
     "name": "stdout",
     "output_type": "stream",
     "text": [
      "['nami', 'vex']\n"
     ]
    }
   ],
   "source": [
    "names = [\n",
    "    \"nami\",\n",
    "    \"ahri\",\n",
    "    \"jayce\",\n",
    "    \"garen\",\n",
    "    \"ivern\",\n",
    "    \"vex\",\n",
    "    \"jinx\",\n",
    "    \"jayce\",\n",
    "    \"garen\",\n",
    "    \"ivern\",\n",
    "]\n",
    "f_name = []\n",
    "groups = len(names) // 5\n",
    "if len(names) % 5 == 0:\n",
    "    for i in range(groups):\n",
    "        f_name.append(names[0 + i * 5])\n",
    "else:\n",
    "    for i in range(groups + 1):\n",
    "        f_name.append(names[0 + i * 5])\n",
    "\n",
    "print(f_name)"
   ]
  },
  {
   "cell_type": "code",
   "execution_count": 20,
   "metadata": {},
   "outputs": [
    {
     "name": "stdout",
     "output_type": "stream",
     "text": [
      "2\n"
     ]
    }
   ],
   "source": [
    "print(groups)"
   ]
  }
 ],
 "metadata": {
  "kernelspec": {
   "display_name": "base",
   "language": "python",
   "name": "python3"
  },
  "language_info": {
   "codemirror_mode": {
    "name": "ipython",
    "version": 3
   },
   "file_extension": ".py",
   "mimetype": "text/x-python",
   "name": "python",
   "nbconvert_exporter": "python",
   "pygments_lexer": "ipython3",
   "version": "3.12.4"
  }
 },
 "nbformat": 4,
 "nbformat_minor": 2
}
