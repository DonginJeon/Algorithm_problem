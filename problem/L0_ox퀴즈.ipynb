{
 "cells": [
  {
   "cell_type": "markdown",
   "metadata": {},
   "source": [
    "덧셈, 뺄셈 수식들이 'X [연산자] Y = Z' 형태로 들어있는 문자열 배열 quiz가 매개변수로 주어집니다. 수식이 옳다면 \"O\"를 틀리다면 \"X\"를 순서대로 담은 배열을 return하도록 solution 함수를 완성해주세요."
   ]
  },
  {
   "cell_type": "code",
   "execution_count": 24,
   "metadata": {},
   "outputs": [
    {
     "name": "stdout",
     "output_type": "stream",
     "text": [
      "['O']\n"
     ]
    }
   ],
   "source": [
    "quiz = [\"3 - 4 = -3\", \"5 + 6 = 11\"]\n",
    "answer = []\n",
    "\n",
    "a = quiz[1].split(\" \")\n",
    "if a[1] == \"-\":\n",
    "    a_ans = int(a[0]) - int(a[2])\n",
    "    if a[4] == a_ans:\n",
    "        answer += \"\"\n",
    "    else:\n",
    "        answer += \"X\"\n",
    "else:\n",
    "    a_ans = int(a[0]) + int(a[2])\n",
    "    if a[4] == a_ans:\n",
    "        answer += \"X\"\n",
    "    else:\n",
    "        answer += \"O\"\n",
    "print(answer)"
   ]
  },
  {
   "cell_type": "code",
   "execution_count": 6,
   "metadata": {},
   "outputs": [
    {
     "name": "stdout",
     "output_type": "stream",
     "text": [
      "3 - 4 = -3\n",
      "5 + 6 = 11\n"
     ]
    }
   ],
   "source": [
    "quiz = [\"3 - 4 = -3\", \"5 + 6 = 11\"]\n",
    "for a in quiz:\n",
    "    print(a)"
   ]
  }
 ],
 "metadata": {
  "kernelspec": {
   "display_name": "base",
   "language": "python",
   "name": "python3"
  },
  "language_info": {
   "codemirror_mode": {
    "name": "ipython",
    "version": 3
   },
   "file_extension": ".py",
   "mimetype": "text/x-python",
   "name": "python",
   "nbconvert_exporter": "python",
   "pygments_lexer": "ipython3",
   "version": "3.12.3"
  }
 },
 "nbformat": 4,
 "nbformat_minor": 2
}
