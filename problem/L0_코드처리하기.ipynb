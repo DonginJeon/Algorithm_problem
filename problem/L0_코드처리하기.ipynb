{
 "cells": [
  {
   "cell_type": "markdown",
   "metadata": {},
   "source": [
    "문자열 code가 주어집니다.\n",
    "code를 앞에서부터 읽으면서 만약 문자가 \"1\"이면 mode를 바꿉니다. mode에 따라 code를 읽어가면서 문자열 ret을 만들어냅니다.\n",
    "\n",
    "mode는 0과 1이 있으며, idx를 0 부터 code의 길이 - 1 까지 1씩 키워나가면서 code[idx]의 값에 따라 다음과 같이 행동합니다.\n",
    "\n",
    "mode가 0일 때\n",
    "code[idx]가 \"1\"이 아니면 idx가 짝수일 때만 ret의 맨 뒤에 code[idx]를 추가합니다.\n",
    "code[idx]가 \"1\"이면 mode를 0에서 1로 바꿉니다.\n",
    "mode가 1일 때\n",
    "code[idx]가 \"1\"이 아니면 idx가 홀수일 때만 ret의 맨 뒤에 code[idx]를 추가합니다.\n",
    "code[idx]가 \"1\"이면 mode를 1에서 0으로 바꿉니다.\n",
    "문자열 code를 통해 만들어진 문자열 ret를 return 하는 solution 함수를 완성해 주세요.\n",
    "\n",
    "단, 시작할 때 mode는 0이며, return 하려는 ret가 만약 빈 문자열이라면 대신 \"EMPTY\"를 return 합니다.\n"
   ]
  },
  {
   "cell_type": "code",
   "execution_count": null,
   "metadata": {},
   "outputs": [],
   "source": [
    "def solution(code):\n",
    "    ret = \"\"\n",
    "    mode = 0  # 시작할 때 mode는 0\n",
    "    for idx in range(len(code)):\n",
    "        if code[idx] == \"1\":\n",
    "            mode = 1 - mode  # mode를 0에서 1, 1에서 0으로 전환\n",
    "        else:\n",
    "            if mode == 0 and idx % 2 == 0:  # mode 0일 때 짝수 인덱스만\n",
    "                ret += code[idx]\n",
    "            elif mode == 1 and idx % 2 == 1:  # mode 1일 때 홀수 인덱스만\n",
    "                ret += code[idx]\n",
    "\n",
    "    # ret이 빈 문자열이면 \"EMPTY\"를 반환\n",
    "    return ret if ret else \"EMPTY\"\n"
   ]
  }
 ],
 "metadata": {
  "kernelspec": {
   "display_name": "base",
   "language": "python",
   "name": "python3"
  },
  "language_info": {
   "name": "python",
   "version": "3.11.7"
  }
 },
 "nbformat": 4,
 "nbformat_minor": 2
}
