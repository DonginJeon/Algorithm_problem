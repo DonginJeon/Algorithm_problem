{
 "cells": [
  {
   "cell_type": "markdown",
   "metadata": {},
   "source": [
    "1부터 6까지 숫자가 적힌 주사위가 네 개 있습니다. 네 주사위를 굴렸을 때 나온 숫자에 따라 다음과 같은 점수를 얻습니다.\n",
    "\n",
    "네 주사위에서 나온 숫자가 모두 p로 같다면 1111 × p점을 얻습니다.\n",
    "세 주사위에서 나온 숫자가 p로 같고 나머지 다른 주사위에서 나온 숫자가 q(p ≠ q)라면 (10 × p + q)2 점을 얻습니다.\n",
    "주사위가 두 개씩 같은 값이 나오고, 나온 숫자를 각각 p, q(p ≠ q)라고 한다면 (p + q) × |p - q|점을 얻습니다.\n",
    "어느 두 주사위에서 나온 숫자가 p로 같고 나머지 두 주사위에서 나온 숫자가 각각 p와 다른 q, r(q ≠ r)이라면 q × r점을 얻습니다.\n",
    "네 주사위에 적힌 숫자가 모두 다르다면 나온 숫자 중 가장 작은 숫자 만큼의 점수를 얻습니다.\n",
    "네 주사위를 굴렸을 때 나온 숫자가 정수 매개변수 a, b, c, d로 주어질 때, 얻는 점수를 return 하는 solution 함수를 작성해 주세요."
   ]
  },
  {
   "cell_type": "code",
   "execution_count": null,
   "metadata": {},
   "outputs": [],
   "source": [
    "from collections import Counter\n",
    "\n",
    "def solution(a, b, c, d):\n",
    "    dice = [a,b,c,d]\n",
    "    counts = Counter(dice)\n",
    "    if len(counts) == 1:\n",
    "        p = dice[0]\n",
    "        return 1111 * p\n",
    "    elif len(counts) == 2:\n",
    "        p, q = counts.keys()\n",
    "        if counts[p] == 3 or counts[q] ==3:\n",
    "            if counts[p] ==3:\n",
    "                return (10*p + q) ** 2\n",
    "            else:\n",
    "                return (10*q+p) **2\n",
    "        else:\n",
    "            return (p+q) * abs(p-q)\n",
    "        \n",
    "    elif len(counts) == 3: \n",
    "        p = [num for num, cnt in counts.items() if cnt == 2][0]\n",
    "        q, r = [num for num, cnt in counts.items() if cnt == 1]\n",
    "        return q * r\n",
    "    else:  \n",
    "        return min(dice)\n",
    "                \n",
    "    \n",
    "    return answer"
   ]
  }
 ],
 "metadata": {
  "kernelspec": {
   "display_name": "base",
   "language": "python",
   "name": "python3"
  },
  "language_info": {
   "name": "python",
   "version": "3.11.7"
  }
 },
 "nbformat": 4,
 "nbformat_minor": 2
}
