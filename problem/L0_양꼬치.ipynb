{
 "cells": [
  {
   "cell_type": "code",
   "execution_count": null,
   "metadata": {},
   "outputs": [],
   "source": [
    "\"\"\"\n",
    "머쓱이네 양꼬치 가게는 10인분을 먹으면 음료수 하나를 서비스로 줍니다. 양꼬치는 1인분에 12,000원, 음료수는 2,000원입니다. 정수 n과 k가 매개변수로 주어졌을 때, 양꼬치 n인분과 음료수 k개를 먹었다면 총얼마를 지불해야 하는지 return 하도록 solution 함수를 완성해보세요.\n",
    "\"\"\"\n",
    "\n",
    "\n",
    "def solution(n, k):\n",
    "    if n > 10:\n",
    "        return (12000 * n) + (k - n // 10) * 2000\n",
    "    else:\n",
    "        return (12000 * n) + k * 2000\n",
    "\n",
    "\n",
    "# if문을 쓰지 않고 그려보는 법을 생각해보자"
   ]
  }
 ],
 "metadata": {
  "language_info": {
   "name": "python"
  }
 },
 "nbformat": 4,
 "nbformat_minor": 2
}
