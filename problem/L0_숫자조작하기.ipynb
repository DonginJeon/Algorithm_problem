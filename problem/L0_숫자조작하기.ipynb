{
 "cells": [
  {
   "cell_type": "markdown",
   "metadata": {},
   "source": [
    "정수 n과 문자열 control이 주어집니다. control은 \"w\", \"a\", \"s\", \"d\"의 4개의 문자로 이루어져 있으며, control의 앞에서부터 순서대로 문자에 따라 n의 값을 바꿉니다.\n",
    "\n",
    "\"w\" : n이 1 커집니다.\n",
    "\"s\" : n이 1 작아집니다.\n",
    "\"d\" : n이 10 커집니다.\n",
    "\"a\" : n이 10 작아집니다.\n",
    "위 규칙에 따라 n을 바꿨을 때 가장 마지막에 나오는 n의 값을 return 하는 solution 함수를 완성해 주세요."
   ]
  },
  {
   "cell_type": "code",
   "execution_count": null,
   "metadata": {},
   "outputs": [],
   "source": [
    "def solution(n, control):\n",
    "    for i in control:\n",
    "        if i == \"w\":\n",
    "            n += 1\n",
    "        elif i == \"s\":\n",
    "            n -= 1\n",
    "        elif i == \"d\":\n",
    "            n += 10\n",
    "        elif i == \"a\":\n",
    "            n -= 10\n",
    "    return n"
   ]
  },
  {
   "cell_type": "markdown",
   "metadata": {},
   "source": [
    "다른 풀이"
   ]
  },
  {
   "cell_type": "code",
   "execution_count": null,
   "metadata": {},
   "outputs": [],
   "source": [
    "def solution(n, control):\n",
    "    answer = n\n",
    "    c = {\"w\": 1, \"s\": -1, \"d\": 10, \"a\": -10}\n",
    "    for i in control:\n",
    "        answer += c[i]\n",
    "    return answer"
   ]
  }
 ],
 "metadata": {
  "language_info": {
   "name": "python"
  }
 },
 "nbformat": 4,
 "nbformat_minor": 2
}
