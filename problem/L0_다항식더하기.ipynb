{
 "cells": [
  {
   "cell_type": "markdown",
   "metadata": {},
   "source": [
    "한 개 이상의 항의 합으로 이루어진 식을 다항식이라고 합니다. 다항식을 계산할 때는 동류항끼리 계산해 정리합니다. 덧셈으로 이루어진 다항식 polynomial이 매개변수로 주어질 때, 동류항끼리 더한 결괏값을 문자열로 return 하도록 solution 함수를 완성해보세요. 같은 식이라면 가장 짧은 수식을 return 합니다."
   ]
  },
  {
   "cell_type": "code",
   "execution_count": 1,
   "metadata": {},
   "outputs": [],
   "source": [
    "def solution(polynomial):\n",
    "    answer = ''\n",
    "    a = polynomial.split(\" + \")\n",
    "    x_term = 0\n",
    "    constant_term = 0\n",
    "    \n",
    "    for i in a:\n",
    "        if \"x\" in i:\n",
    "            if i == \"x\":\n",
    "                x_term += 1\n",
    "            else:\n",
    "                x_term += int(i.replace(\"x\",\"\"))\n",
    "        else:\n",
    "            constant_term += int(i)\n",
    "            # 결과를 문자열로 변환\n",
    "    result = []\n",
    "    \n",
    "    # 일차항을 추가\n",
    "    if x_term > 0:\n",
    "        if x_term == 1:\n",
    "            result.append(\"x\")\n",
    "        else:\n",
    "            result.append(f\"{x_term}x\")\n",
    "    \n",
    "    # 상수항을 추가\n",
    "    if constant_term > 0:\n",
    "        result.append(str(constant_term))\n",
    "\n",
    "    # 일차항과 상수항이 모두 0일 경우 0을 반환\n",
    "    if not result:\n",
    "        return \"0\"\n",
    "\n",
    "    # ' + '로 결과를 연결\n",
    "    return \" + \".join(result)\n",
    "                \n",
    "            \n",
    "    return answer"
   ]
  }
 ],
 "metadata": {
  "kernelspec": {
   "display_name": "base",
   "language": "python",
   "name": "python3"
  },
  "language_info": {
   "codemirror_mode": {
    "name": "ipython",
    "version": 3
   },
   "file_extension": ".py",
   "mimetype": "text/x-python",
   "name": "python",
   "nbconvert_exporter": "python",
   "pygments_lexer": "ipython3",
   "version": "3.11.7"
  }
 },
 "nbformat": 4,
 "nbformat_minor": 2
}
