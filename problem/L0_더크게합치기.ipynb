{
 "cells": [
  {
   "cell_type": "markdown",
   "metadata": {},
   "source": [
    "연산 ⊕는 두 정수에 대한 연산으로 두 정수를 붙여서 쓴 값을 반환합니다. 예를 들면 다음과 같습니다.\n",
    "\n",
    "12 ⊕ 3 = 123\n",
    "3 ⊕ 12 = 312\n",
    "양의 정수 a와 b가 주어졌을 때, a ⊕ b와 b ⊕ a 중 더 큰 값을 return 하는 solution 함수를 완성해 주세요.\n",
    "\n",
    "단, a ⊕ b와 b ⊕ a가 같다면 a ⊕ b를 return 합니다."
   ]
  },
  {
   "cell_type": "code",
   "execution_count": null,
   "metadata": {},
   "outputs": [],
   "source": [
    "def solution(a, b):\n",
    "    v1 = str(a) + str(b)\n",
    "    v2 = str(b) + str(a)\n",
    "    if int(v1)>int(v2):\n",
    "        return int(v1)\n",
    "    else:\n",
    "        return int(v2)"
   ]
  }
 ],
 "metadata": {
  "language_info": {
   "name": "python"
  }
 },
 "nbformat": 4,
 "nbformat_minor": 2
}
