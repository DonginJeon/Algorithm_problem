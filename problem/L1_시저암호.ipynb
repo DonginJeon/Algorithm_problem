{
 "cells": [
  {
   "cell_type": "markdown",
   "metadata": {},
   "source": [
    "어떤 문장의 각 알파벳을 일정한 거리만큼 밀어서 다른 알파벳으로 바꾸는 암호화 방식을 시저 암호라고 합니다. 예를 들어 \"AB\"는 1만큼 밀면 \"BC\"가 되고, 3만큼 밀면 \"DE\"가 됩니다. \"z\"는 1만큼 밀면 \"a\"가 됩니다. 문자열 s와 거리 n을 입력받아 s를 n만큼 민 암호문을 만드는 함수, solution을 완성해 보세요.\n",
    "\n",
    "제한 조건\n",
    "공백은 아무리 밀어도 공백입니다.\n",
    "s는 알파벳 소문자, 대문자, 공백으로만 이루어져 있습니다.\n",
    "s의 길이는 8000이하입니다.\n",
    "n은 1 이상, 25이하인 자연수입니다."
   ]
  },
  {
   "cell_type": "code",
   "execution_count": null,
   "metadata": {
    "vscode": {
     "languageId": "plaintext"
    }
   },
   "outputs": [],
   "source": [
    "def solution(s, n):\n",
    "    answer = ''\n",
    "    for char in s:\n",
    "        if char.isupper():  # 대문자일 경우\n",
    "            answer += chr((ord(char) - ord('A') + n) % 26 + ord('A'))\n",
    "        elif char.islower():  # 소문자일 경우\n",
    "            answer += chr((ord(char) - ord('a') + n) % 26 + ord('a'))\n",
    "        else:  # 공백일 경우\n",
    "            answer += char\n",
    "    return answer"
   ]
  }
 ],
 "metadata": {
  "language_info": {
   "name": "python"
  }
 },
 "nbformat": 4,
 "nbformat_minor": 2
}
