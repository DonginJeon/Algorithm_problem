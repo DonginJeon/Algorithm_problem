{
 "cells": [
  {
   "cell_type": "code",
   "execution_count": null,
   "metadata": {
    "vscode": {
     "languageId": "plaintext"
    }
   },
   "outputs": [],
   "source": [
    "def solution(n):\n",
    "    answer = 0\n",
    "    num = set(range(2,n+1))\n",
    "    \n",
    "    for i in range(2,n+1):\n",
    "        if i in num:\n",
    "            num -= set(range(2*i, n+1, i))\n",
    "    return len(num)"
   ]
  }
 ],
 "metadata": {
  "language_info": {
   "name": "python"
  }
 },
 "nbformat": 4,
 "nbformat_minor": 2
}
