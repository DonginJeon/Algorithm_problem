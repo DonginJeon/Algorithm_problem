{
 "cells": [
  {
   "cell_type": "markdown",
   "metadata": {},
   "source": [
    "1부터 6까지 숫자가 적힌 주사위가 세 개 있습니다. 세 주사위를 굴렸을 때 나온 숫자를 각각 a, b, c라고 했을 때 얻는 점수는 다음과 같습니다.\n",
    "\n",
    "세 숫자가 모두 다르다면 a + b + c 점을 얻습니다.\n",
    "세 숫자 중 어느 두 숫자는 같고 나머지 다른 숫자는 다르다면 (a + b + c) × (a2 + b2 + c2 )점을 얻습니다.\n",
    "세 숫자가 모두 같다면 (a + b + c) × (a2 + b2 + c2 ) × (a3 + b3 + c3 )점을 얻습니다.\n",
    "세 정수 a, b, c가 매개변수로 주어질 때, 얻는 점수를 return 하는 solution 함수를 작성해 주세요."
   ]
  },
  {
   "cell_type": "code",
   "execution_count": 1,
   "metadata": {},
   "outputs": [],
   "source": [
    "\n",
    "                \n",
    "def solution(a, b, c):\n",
    "    # 세 숫자가 모두 같을 경우\n",
    "    if a == b == c:\n",
    "        return (a + b + c) * (a**2 + b**2 + c**2) * (a**3 + b**3 + c**3)\n",
    "    # 두 숫자는 같고 나머지 하나가 다른 경우\n",
    "    elif a == b or b == c or a == c:\n",
    "        return (a + b + c) * (a**2 + b**2 + c**2)\n",
    "    # 모든 숫자가 다를 경우\n",
    "    else:\n",
    "        return a + b + c\n"
   ]
  }
 ],
 "metadata": {
  "kernelspec": {
   "display_name": "base",
   "language": "python",
   "name": "python3"
  },
  "language_info": {
   "codemirror_mode": {
    "name": "ipython",
    "version": 3
   },
   "file_extension": ".py",
   "mimetype": "text/x-python",
   "name": "python",
   "nbconvert_exporter": "python",
   "pygments_lexer": "ipython3",
   "version": "3.11.7"
  }
 },
 "nbformat": 4,
 "nbformat_minor": 2
}
