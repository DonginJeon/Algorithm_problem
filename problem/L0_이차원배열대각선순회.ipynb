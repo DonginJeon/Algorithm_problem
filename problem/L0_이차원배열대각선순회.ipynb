{
 "cells": [
  {
   "cell_type": "markdown",
   "metadata": {},
   "source": [
    "2차원 정수 배열 board와 정수 k가 주어집니다.\n",
    "\n",
    "i + j <= k를 만족하는 모든 (i, j)에 대한 board[i][j]의 합을 return 하는 solution 함수를 완성해 주세요."
   ]
  },
  {
   "cell_type": "code",
   "execution_count": null,
   "metadata": {
    "vscode": {
     "languageId": "plaintext"
    }
   },
   "outputs": [],
   "source": [
    "def solution(board, k):\n",
    "    answer = 0\n",
    "    n = len(board)  # board의 크기\n",
    "\n",
    "    # 주 대각선과 부 대각선을 따라 k 이하의 원소들만 더함\n",
    "    for i in range(n):\n",
    "        for j in range(n):\n",
    "            if i + j <= k:\n",
    "                answer += board[i][j]\n",
    "\n",
    "    return answer\n"
   ]
  }
 ],
 "metadata": {
  "language_info": {
   "name": "python"
  }
 },
 "nbformat": 4,
 "nbformat_minor": 2
}
