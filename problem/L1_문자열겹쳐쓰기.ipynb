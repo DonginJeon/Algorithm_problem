{
 "cells": [
  {
   "cell_type": "markdown",
   "metadata": {},
   "source": [
    "문자열 my_string, overwrite_string과 정수 s가 주어집니다. 문자열 my_string의 인덱스 s부터 overwrite_string의 길이만큼을 문자열 overwrite_string으로 바꾼 문자열을 return 하는 solution 함수를 작성해 주세요.\n",
    "\n",
    "제한사항\n",
    "my_string와 overwrite_string은 숫자와 알파벳으로 이루어져 있습니다.\n",
    "1 ≤ overwrite_string의 길이 ≤ my_string의 길이 ≤ 1,000\n",
    "0 ≤ s ≤ my_string의 길이 - overwrite_string의 길이\n"
   ]
  },
  {
   "cell_type": "code",
   "execution_count": null,
   "metadata": {
    "vscode": {
     "languageId": "plaintext"
    }
   },
   "outputs": [],
   "source": [
    "def solution(my_string, overwrite_string, s):\n",
    "    new_string = my_string[:s] + overwrite_string\n",
    "    if len(my_string) == len(new_string):\n",
    "        return new_string\n",
    "    else:\n",
    "        return new_string + my_string[s+len(overwrite_string):]"
   ]
  }
 ],
 "metadata": {
  "language_info": {
   "name": "python"
  }
 },
 "nbformat": 4,
 "nbformat_minor": 2
}
