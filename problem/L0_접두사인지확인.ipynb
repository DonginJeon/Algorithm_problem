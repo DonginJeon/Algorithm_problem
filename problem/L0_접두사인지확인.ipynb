{
 "cells": [
  {
   "cell_type": "markdown",
   "metadata": {},
   "source": [
    "어떤 문자열에 대해서 접두사는 특정 인덱스까지의 문자열을 의미합니다. 예를 들어, \"banana\"의 모든 접두사는 \"b\", \"ba\", \"ban\", \"bana\", \"banan\", \"banana\"입니다.\n",
    "문자열 my_string과 is_prefix가 주어질 때, is_prefix가 my_string의 접두사라면 1을, 아니면 0을 return 하는 solution 함수를 작성해 주세요."
   ]
  },
  {
   "cell_type": "code",
   "execution_count": 40,
   "metadata": {},
   "outputs": [
    {
     "name": "stdout",
     "output_type": "stream",
     "text": [
      "1\n"
     ]
    }
   ],
   "source": [
    "my_string = \"banana\"\n",
    "is_prefix = \"ba\"\n",
    "\n",
    "prefix = \"\"\n",
    "if len(is_prefix) < len(my_string):\n",
    "\n",
    "    for i in range(len(is_prefix)):\n",
    "        prefix += my_string[i]\n",
    "    if is_prefix == prefix:\n",
    "        print(1)\n",
    "    else:\n",
    "        print(0)\n",
    "\n",
    "else:\n",
    "    print(0)"
   ]
  },
  {
   "cell_type": "markdown",
   "metadata": {},
   "source": [
    "접두사 문제"
   ]
  },
  {
   "cell_type": "code",
   "execution_count": null,
   "metadata": {},
   "outputs": [],
   "source": [
    "def solution(my_string, is_suffix):\n",
    "    # my_string의 끝 부분에서 is_suffix의 길이만큼 잘라내어 비교\n",
    "    if my_string.endswith(is_suffix):\n",
    "        return 1\n",
    "    else:\n",
    "        return 0"
   ]
  }
 ],
 "metadata": {
  "kernelspec": {
   "display_name": "base",
   "language": "python",
   "name": "python3"
  },
  "language_info": {
   "codemirror_mode": {
    "name": "ipython",
    "version": 3
   },
   "file_extension": ".py",
   "mimetype": "text/x-python",
   "name": "python",
   "nbconvert_exporter": "python",
   "pygments_lexer": "ipython3",
   "version": "3.12.4"
  }
 },
 "nbformat": 4,
 "nbformat_minor": 2
}
