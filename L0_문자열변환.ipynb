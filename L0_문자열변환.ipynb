{
 "cells": [
  {
   "cell_type": "markdown",
   "metadata": {},
   "source": [
    "문자열 배열 strArr가 주어집니다. 모든 원소가 알파벳으로만 이루어져 있을 때, 배열에서 홀수번째 인덱스의 문자열은 모든 문자를 대문자로, 짝수번째 인덱스의 문자열은 모든 문자를 소문자로 바꿔서 반환하는 solution 함수를 완성해 주세요."
   ]
  },
  {
   "cell_type": "code",
   "execution_count": 9,
   "metadata": {},
   "outputs": [
    {
     "name": "stdout",
     "output_type": "stream",
     "text": [
      "['AAA', 'bbb', 'CCC', 'ddd']\n"
     ]
    }
   ],
   "source": [
    "strArr = [\"AAA\", \"BBB\", \"CCC\", \"DDD\"]\n",
    "\n",
    "for i in range(len(strArr)):\n",
    "    if i % 2 == 0:\n",
    "        strArr[i] = strArr[i].upper()\n",
    "    else:\n",
    "        strArr[i] = strArr[i].lower()\n",
    "print(strArr)"
   ]
  },
  {
   "cell_type": "code",
   "execution_count": 13,
   "metadata": {},
   "outputs": [
    {
     "name": "stdout",
     "output_type": "stream",
     "text": [
      "['AAA', 'bbb', 'CCC', 'ddd']\n"
     ]
    }
   ],
   "source": [
    "strArr = [\"AAA\", \"BBB\", \"CCC\", \"DDD\"]\n",
    "\n",
    "for i, letter in enumerate(strArr):\n",
    "    if i % 2 == 0:\n",
    "        strArr[i] = strArr[i].upper()\n",
    "    else:\n",
    "        strArr[i] = strArr[i].lower()\n",
    "print(strArr)"
   ]
  }
 ],
 "metadata": {
  "kernelspec": {
   "display_name": "base",
   "language": "python",
   "name": "python3"
  },
  "language_info": {
   "codemirror_mode": {
    "name": "ipython",
    "version": 3
   },
   "file_extension": ".py",
   "mimetype": "text/x-python",
   "name": "python",
   "nbconvert_exporter": "python",
   "pygments_lexer": "ipython3",
   "version": "3.12.4"
  }
 },
 "nbformat": 4,
 "nbformat_minor": 2
}
