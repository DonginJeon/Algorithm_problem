{
 "cells": [
  {
   "cell_type": "markdown",
   "metadata": {},
   "source": [
    "소수점 아래 숫자가 계속되지 않고 유한개인 소수를 유한소수라고 합니다. 분수를 소수로 고칠 때 유한소수로 나타낼 수 있는 분수인지 판별하려고 합니다. 유한소수가 되기 위한 분수의 조건은 다음과 같습니다.\n",
    "\n",
    "기약분수로 나타내었을 때, 분모의 소인수가 2와 5만 존재해야 합니다.\n",
    "두 정수 a와 b가 매개변수로 주어질 때, a/b가 유한소수이면 1을, 무한소수라면 2를 return하도록 solution 함수를 완성해주세요.\n",
    "\n"
   ]
  },
  {
   "cell_type": "code",
   "execution_count": null,
   "metadata": {
    "vscode": {
     "languageId": "plaintext"
    }
   },
   "outputs": [],
   "source": [
    "import math\n",
    "\n",
    "def solution(a, b):\n",
    "    gcd = math.gcd(a,b)\n",
    "    b = b// gcd\n",
    "    while b %2 == 0:\n",
    "        b //= 2\n",
    "    while b %5 ==0:\n",
    "        b //= 5\n",
    "    \n",
    "    if b == 1:\n",
    "        return 1\n",
    "    else:\n",
    "        return 2"
   ]
  }
 ],
 "metadata": {
  "language_info": {
   "name": "python"
  }
 },
 "nbformat": 4,
 "nbformat_minor": 2
}
