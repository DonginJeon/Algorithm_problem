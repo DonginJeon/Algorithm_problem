{
 "cells": [
  {
   "cell_type": "markdown",
   "metadata": {},
   "source": [
    "양의 정수 n이 매개변수로 주어집니다. n × n 배열에 1부터 n2 까지 정수를 인덱스 [0][0]부터 시계방향 나선형으로 배치한 이차원 배열을 return 하는 solution 함수를 작성해 주세요.\n",
    "\n"
   ]
  },
  {
   "cell_type": "code",
   "execution_count": null,
   "metadata": {},
   "outputs": [],
   "source": [
    "def solution(n):\n",
    "    answer = [[None for j in range(n)] for i in range(n)]\n",
    "    move = [[0, 1], [1, 0], [0, -1], [-1, 0]]\n",
    "    x, y, m = 0, 0, 0\n",
    "    for i in range(1, n**2 + 1):\n",
    "        answer[y][x] = i\n",
    "        if (\n",
    "            y + move[m][0] >= n\n",
    "            or x + move[m][1] >= n\n",
    "            or answer[y + move[m][0]][x + move[m][1]]\n",
    "        ):\n",
    "            m = (m + 1) % len(move)\n",
    "        y, x = y + move[m][0], x + move[m][1]\n",
    "    return answer"
   ]
  },
  {
   "cell_type": "code",
   "execution_count": null,
   "metadata": {},
   "outputs": [],
   "source": [
    "def solution(n):\n",
    "    dy = [0, 1, 0, -1]\n",
    "    dx = [1, 0, -1, 0]\n",
    "    y, x = 0, -1\n",
    "\n",
    "    arr = [[0] * n for _ in range(n)]\n",
    "    cnt = 1\n",
    "    direction = 0\n",
    "    while cnt <= n**2:\n",
    "        ny, nx = y + dy[direction], x + dx[direction]\n",
    "        if 0 <= ny < n and 0 <= nx < n and not arr[ny][nx]:\n",
    "            arr[ny][nx] = cnt\n",
    "            cnt += 1\n",
    "            y, x = ny, nx\n",
    "        else:\n",
    "            direction = (direction + 1) % 4\n",
    "\n",
    "    return arr"
   ]
  },
  {
   "cell_type": "code",
   "execution_count": 6,
   "metadata": {},
   "outputs": [
    {
     "name": "stdout",
     "output_type": "stream",
     "text": [
      "[[1, 2, 3, 4], [12, 13, 14, 5], [11, 16, 15, 6], [10, 9, 8, 7]]\n"
     ]
    }
   ],
   "source": [
    "n = 4\n",
    "dy = [0, 1, 0, -1]\n",
    "dx = [1, 0, -1, 0]\n",
    "y, x = 0, -1\n",
    "\n",
    "arr = [[0] * n for _ in range(n)]\n",
    "cnt = 1\n",
    "direction = 0\n",
    "while cnt <= n**2:\n",
    "    ny, nx = y + dy[direction], x + dx[direction]\n",
    "    if 0 <= ny < n and 0 <= nx < n and not arr[ny][nx]:\n",
    "        arr[ny][nx] = cnt\n",
    "        cnt += 1\n",
    "        y, x = ny, nx\n",
    "    else:\n",
    "        direction = (direction + 1) % 4\n",
    "\n",
    "print(arr)"
   ]
  },
  {
   "cell_type": "code",
   "execution_count": null,
   "metadata": {},
   "outputs": [],
   "source": []
  }
 ],
 "metadata": {
  "kernelspec": {
   "display_name": "base",
   "language": "python",
   "name": "python3"
  },
  "language_info": {
   "codemirror_mode": {
    "name": "ipython",
    "version": 3
   },
   "file_extension": ".py",
   "mimetype": "text/x-python",
   "name": "python",
   "nbconvert_exporter": "python",
   "pygments_lexer": "ipython3",
   "version": "3.12.3"
  }
 },
 "nbformat": 4,
 "nbformat_minor": 2
}
