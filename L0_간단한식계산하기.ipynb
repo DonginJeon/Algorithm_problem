{
 "cells": [
  {
   "cell_type": "markdown",
   "metadata": {},
   "source": [
    "문자열 binomial이 매개변수로 주어집니다. binomial은 \"a op b\" 형태의 이항식이고 a와 b는 음이 아닌 정수, op는 '+', '-', '*' 중 하나입니다. 주어진 식을 계산한 정수를 return 하는 solution 함수를 작성해 주세요."
   ]
  },
  {
   "cell_type": "code",
   "execution_count": null,
   "metadata": {},
   "outputs": [],
   "source": [
    "def solution(binomial):\n",
    "    num = binomial.split(\" \")\n",
    "    if num[1] == \"+\":\n",
    "        return int(num[0]) + int(num[2])\n",
    "    elif num[1] == \"-\":\n",
    "        return int(num[0]) - int(num[2])\n",
    "    if num[1] == \"*\":\n",
    "        return int(num[0]) * int(num[2])"
   ]
  }
 ],
 "metadata": {
  "language_info": {
   "name": "python"
  }
 },
 "nbformat": 4,
 "nbformat_minor": 2
}
