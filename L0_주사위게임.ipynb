{
 "cells": [
  {
   "cell_type": "markdown",
   "metadata": {},
   "source": [
    "1부터 6까지 숫자가 적힌 주사위가 두 개 있습니다. 두 주사위를 굴렸을 때 나온 \b숫자를 각각 a, b라고 했을 때 얻는 점수는 다음과 같습니다.\n",
    "\n",
    "a와 b가 모두 홀수라면 a2 + b2 점을 얻습니다.\n",
    "a와 b 중 하나만 홀수라면 2 × (a + b) 점을 얻습니다.\n",
    "a와 b 모두 홀수가 아니라면 |a - b| 점을 얻습니다.\n",
    "두 정수 a와 b가 매개변수로 주어질 때, 얻는 점수를 return 하는 solution 함수를 작성해 주세요."
   ]
  },
  {
   "cell_type": "code",
   "execution_count": 1,
   "metadata": {},
   "outputs": [
    {
     "data": {
      "text/plain": [
       "1"
      ]
     },
     "execution_count": 1,
     "metadata": {},
     "output_type": "execute_result"
    }
   ],
   "source": [
    "def solution(a, b):\n",
    "    if (a*b)%2!=0:\n",
    "        return a*a+b*b\n",
    "    elif (a+b)%2!=0:\n",
    "        return 2*(a+b)\n",
    "    else:\n",
    "        if (a-b)>0:\n",
    "            return a-b\n",
    "        else:\n",
    "            return (-1)*(a-b)\n",
    "        "
   ]
  }
 ],
 "metadata": {
  "kernelspec": {
   "display_name": "base",
   "language": "python",
   "name": "python3"
  },
  "language_info": {
   "codemirror_mode": {
    "name": "ipython",
    "version": 3
   },
   "file_extension": ".py",
   "mimetype": "text/x-python",
   "name": "python",
   "nbconvert_exporter": "python",
   "pygments_lexer": "ipython3",
   "version": "3.12.4"
  }
 },
 "nbformat": 4,
 "nbformat_minor": 2
}
