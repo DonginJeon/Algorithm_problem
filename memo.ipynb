{
 "cells": [
  {
   "cell_type": "code",
   "execution_count": 4,
   "metadata": {},
   "outputs": [
    {
     "name": "stdout",
     "output_type": "stream",
     "text": [
      "0\n"
     ]
    }
   ],
   "source": [
    "wallet = [30,15]\n",
    "bill = [26,17]\n",
    "answer = 0\n",
    "if min(bill[0],bill[1]) < min(wallet[0],wallet[1]): # (max(bill[0],bill[1]) > max(wallet[0],wallet[1])):\n",
    "    if bill[0] > bill[1]:\n",
    "        bill[0] % 2\n",
    "        answer += 1\n",
    "    else:\n",
    "        bill[0] % 2\n",
    "        answer += 1\n",
    "print(answer)"
   ]
  }
 ],
 "metadata": {
  "kernelspec": {
   "display_name": "base",
   "language": "python",
   "name": "python3"
  },
  "language_info": {
   "codemirror_mode": {
    "name": "ipython",
    "version": 3
   },
   "file_extension": ".py",
   "mimetype": "text/x-python",
   "name": "python",
   "nbconvert_exporter": "python",
   "pygments_lexer": "ipython3",
   "version": "3.11.7"
  }
 },
 "nbformat": 4,
 "nbformat_minor": 2
}
