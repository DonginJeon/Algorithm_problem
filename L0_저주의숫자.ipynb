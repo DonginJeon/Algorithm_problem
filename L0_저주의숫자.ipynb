{
 "cells": [
  {
   "cell_type": "markdown",
   "metadata": {},
   "source": [
    "3x 마을 사람들은 3을 저주의 숫자라고 생각하기 때문에 3의 배수와 숫자 3을 사용하지 않습니다. 3x 마을 사람들의 숫자는 다음과 같습니다.\n",
    "\n",
    "10진법\t3x 마을에서 쓰는 숫자\t10진법\t3x 마을에서 쓰는 숫자\n",
    "1\t1\t6\t8\n",
    "2\t2\t7\t10\n",
    "3\t4\t8\t11\n",
    "4\t5\t9\t14\n",
    "5\t7\t10\t16\n",
    "정수 n이 매개변수로 주어질 때, n을 3x 마을에서 사용하는 숫자로 바꿔 return하도록 solution 함수를 완성해주세요."
   ]
  },
  {
   "cell_type": "code",
   "execution_count": null,
   "metadata": {
    "vscode": {
     "languageId": "plaintext"
    }
   },
   "outputs": [],
   "source": [
    "def solution(n):\n",
    "    num_list = []\n",
    "    i = 1\n",
    "    while len(num_list) < n:  \n",
    "        if i % 3 != 0:  \n",
    "            if '3' not in str(i):\n",
    "                num_list.append(i)\n",
    "        i += 1  \n",
    "    \n",
    "    return num_list[n-1]  \n"
   ]
  }
 ],
 "metadata": {
  "language_info": {
   "name": "python"
  }
 },
 "nbformat": 4,
 "nbformat_minor": 2
}
