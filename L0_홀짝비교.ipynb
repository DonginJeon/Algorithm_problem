{
 "cells": [
  {
   "cell_type": "markdown",
   "metadata": {},
   "source": [
    "자연수 n이 입력으로 주어졌을 때 만약 n이 짝수이면 \"n is even\"을, 홀수이면 \"n is odd\"를 출력하는 코드를 작성해 보세요."
   ]
  },
  {
   "cell_type": "code",
   "execution_count": null,
   "metadata": {},
   "outputs": [],
   "source": [
    "a = int(input())\n",
    "if a % 2 == 0:\n",
    "    print(f\"{a} is even\")\n",
    "else:\n",
    "    print(f\"{a} is odd\")    "
   ]
  }
 ],
 "metadata": {
  "language_info": {
   "name": "python"
  }
 },
 "nbformat": 4,
 "nbformat_minor": 2
}
