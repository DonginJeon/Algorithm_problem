{
 "cells": [
  {
   "cell_type": "markdown",
   "metadata": {},
   "source": [
    "# 07 두수의 합"
   ]
  },
  {
   "cell_type": "code",
   "execution_count": null,
   "metadata": {
    "vscode": {
     "languageId": "plaintext"
    }
   },
   "outputs": [],
   "source": [
    "class Solution:\n",
    "    def twoSum(self, nums: List[int], target: int) -> List[int]:\n",
    "        for i in range(len(nums)):\n",
    "            for j in range(i + 1,len(nums)):\n",
    "                if nums[i] + nums[j] == target:\n",
    "                    return [i,j]"
   ]
  },
  {
   "cell_type": "code",
   "execution_count": null,
   "metadata": {
    "vscode": {
     "languageId": "plaintext"
    }
   },
   "outputs": [],
   "source": [
    "class Solution:\n",
    "    def twoSum(self, nums: List[int], target: int) -> List[int]:\n",
    "        for i, n in enumerate(nums):\n",
    "            complement = target- n\n",
    "            if complement in nums[i+1:]:\n",
    "                return [nums.index(n), nums[i+1:].index(complement) + (i+1)]"
   ]
  },
  {
   "cell_type": "markdown",
   "metadata": {},
   "source": [
    "# 08 빗물 트래핑"
   ]
  },
  {
   "cell_type": "code",
   "execution_count": null,
   "metadata": {
    "vscode": {
     "languageId": "plaintext"
    }
   },
   "outputs": [],
   "source": [
    "class Solution:\n",
    "    def trap(self, height: List[int]) -> int:\n",
    "        if not height:\n",
    "            return 0\n",
    "        volume= 0\n",
    "        left ,right = 0,len(height) - 1\n",
    "        left_max, right_max = height[left], height[right]\n",
    "        while left < right:\n",
    "            left_max, right_max = max(height[left], left_max), max(height[right], right_max)\n",
    "\n",
    "            if left_max <= right_max:\n",
    "                volume += left_max - height[left]\n",
    "                left+= 1\n",
    "            else:\n",
    "                volume += right_max - height[right]\n",
    "                right -= 1\n",
    "        return volume"
   ]
  },
  {
   "cell_type": "markdown",
   "metadata": {},
   "source": [
    "# 09 세수의합"
   ]
  },
  {
   "cell_type": "code",
   "execution_count": null,
   "metadata": {
    "vscode": {
     "languageId": "plaintext"
    }
   },
   "outputs": [],
   "source": [
    "class Solution:\n",
    "    def threeSum(self, nums: List[int]) -> List[List[int]]:\n",
    "        results = []\n",
    "        nums.sort()\n",
    "\n",
    "        for i in range(len(nums)-2):\n",
    "            if i > 0 and nums[i] == nums[i -1]:\n",
    "                continue\n",
    "            for j in range(i + 1, len(nums)-1):\n",
    "                if j > i+1 and nums[j] == nums[j-1]:\n",
    "                    continue\n",
    "                for k in range(j+1, len(nums)):\n",
    "                    if k > j+1 and nums[k] == nums[k-1]:\n",
    "                        continue\n",
    "                    if nums[i] + nums[j] + nums[k] == 0:\n",
    "                        results.append([nums[i],nums[j],nums[k]])\n",
    "        return results"
   ]
  }
 ],
 "metadata": {
  "language_info": {
   "name": "python"
  }
 },
 "nbformat": 4,
 "nbformat_minor": 2
}
