{
 "cells": [
  {
   "cell_type": "markdown",
   "metadata": {},
   "source": [
    "# 13 팰린드롬 연결 리스트"
   ]
  },
  {
   "cell_type": "code",
   "execution_count": null,
   "metadata": {
    "vscode": {
     "languageId": "plaintext"
    }
   },
   "outputs": [],
   "source": [
    "# Definition for singly-linked list.\n",
    "# class ListNode:\n",
    "#     def __init__(self, val=0, next=None):\n",
    "#         self.val = val\n",
    "#         self.next = next\n",
    "class Solution:\n",
    "    def isPalindrome(self, head: Optional[ListNode]) -> bool:\n",
    "        q:List = []\n",
    "        if not head:\n",
    "            return True\n",
    "\n",
    "        node = head\n",
    "        while node is not None:\n",
    "            q.append(node.val)\n",
    "            node = node.next\n",
    "\n",
    "        while len(q) > 1:\n",
    "            if q.pop(0) != q.pop():\n",
    "                return False\n",
    "\n",
    "        return True        "
   ]
  }
 ],
 "metadata": {
  "language_info": {
   "name": "python"
  }
 },
 "nbformat": 4,
 "nbformat_minor": 2
}
