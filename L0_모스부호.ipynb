{
 "cells": [
  {
   "cell_type": "markdown",
   "metadata": {},
   "source": [
    "머쓱이는 친구에게 모스부호를 이용한 편지를 받았습니다. 그냥은 읽을 수 없어 이를 해독하는 프로그램을 만들려고 합니다. 문자열 letter가 매개변수로 주어질 때, letter를 영어 소문자로 바꾼 문자열을 return 하도록 solution 함수를 완성해보세요.\n",
    "모스부호는 다음과 같습니다."
   ]
  },
  {
   "cell_type": "code",
   "execution_count": 2,
   "metadata": {},
   "outputs": [],
   "source": [
    "morse = { \n",
    "    '.-':'a','-...':'b','-.-.':'c','-..':'d','.':'e','..-.':'f',\n",
    "    '--.':'g','....':'h','..':'i','.---':'j','-.-':'k','.-..':'l',\n",
    "    '--':'m','-.':'n','---':'o','.--.':'p','--.-':'q','.-.':'r',\n",
    "    '...':'s','-':'t','..-':'u','...-':'v','.--':'w','-..-':'x',\n",
    "    '-.--':'y','--..':'z'\n",
    "}"
   ]
  },
  {
   "cell_type": "code",
   "execution_count": 8,
   "metadata": {},
   "outputs": [
    {
     "name": "stdout",
     "output_type": "stream",
     "text": [
      ".-\n",
      "-...\n",
      "-.-.\n",
      "-..\n",
      ".\n",
      "..-.\n",
      "--.\n",
      "....\n",
      "..\n",
      ".---\n",
      "-.-\n",
      ".-..\n",
      "--\n",
      "-.\n",
      "---\n",
      ".--.\n",
      "--.-\n",
      ".-.\n",
      "...\n",
      "-\n",
      "..-\n",
      "...-\n",
      ".--\n",
      "-..-\n",
      "-.--\n",
      "--..\n"
     ]
    }
   ],
   "source": [
    "def solution(letter):\n",
    "    answer = ''\n",
    "    morse = { \n",
    "    '.-':'a','-...':'b','-.-.':'c','-..':'d','.':'e','..-.':'f',\n",
    "    '--.':'g','....':'h','..':'i','.---':'j','-.-':'k','.-..':'l',\n",
    "    '--':'m','-.':'n','---':'o','.--.':'p','--.-':'q','.-.':'r',\n",
    "    '...':'s','-':'t','..-':'u','...-':'v','.--':'w','-..-':'x',\n",
    "    '-.--':'y','--..':'z'\n",
    "}\n",
    "    encode = letter.split(\" \")\n",
    "    for i in encode:\n",
    "        for key,value in morse.items():\n",
    "            if i==key:\n",
    "                answer += value\n",
    "                \n",
    "    return answer\n"
   ]
  }
 ],
 "metadata": {
  "kernelspec": {
   "display_name": "base",
   "language": "python",
   "name": "python3"
  },
  "language_info": {
   "codemirror_mode": {
    "name": "ipython",
    "version": 3
   },
   "file_extension": ".py",
   "mimetype": "text/x-python",
   "name": "python",
   "nbconvert_exporter": "python",
   "pygments_lexer": "ipython3",
   "version": "3.12.3"
  }
 },
 "nbformat": 4,
 "nbformat_minor": 2
}
